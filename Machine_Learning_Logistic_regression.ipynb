{
  "cells": [
    {
      "cell_type": "markdown",
      "source": [
        "### **Logistic Regression**\n",
        "\n",
        "Extend the notebook by adding a new cell to train a Logistic Regression with L1 penalty. Use the following arguments:\n",
        "\n",
        "solver='saga', tol=0.001, max_iter=500.\n",
        "\n",
        "What do you observe by comparing the two images of the coefficients of L2 and L1?"
      ],
      "metadata": {
        "id": "FqgzcRq88bZP"
      }
    },
    {
      "cell_type": "code",
      "execution_count": null,
      "metadata": {
        "id": "mkSsCcxY8adf"
      },
      "outputs": [],
      "source": [
        "# adaptation after\n",
        "# http://scikit-learn.org/stable/auto_examples/manifold/plot_lle_digits.html\n",
        "# import libraries\n",
        "import numpy as np\n",
        "import matplotlib.pyplot as plt\n",
        "from sklearn import datasets\n",
        "from sklearn import preprocessing\n",
        "from sklearn.model_selection import train_test_split\n",
        "from sklearn.linear_model import LogisticRegressionCV\n",
        "\n",
        "%matplotlib inline\n",
        "plt.rcParams['figure.figsize'] = (5.0, 4.0)"
      ]
    },
    {
      "cell_type": "code",
      "execution_count": null,
      "metadata": {
        "colab": {
          "base_uri": "https://localhost:8080/"
        },
        "id": "DLh9Nt3B8adi",
        "outputId": "577f48dc-51e9-4488-adbb-8a090d44ccf6"
      },
      "outputs": [
        {
          "output_type": "stream",
          "name": "stdout",
          "text": [
            "No. samples =  357\n",
            "No. features =  64\n"
          ]
        }
      ],
      "source": [
        "# load the dataset\n",
        "digits = datasets.load_digits()\n",
        "X_raw_all = digits.data\n",
        "y_raw_all = digits.target\n",
        "\n",
        "# select only 3s and 8s\n",
        "ind = (y_raw_all == 3) | (y_raw_all == 8)\n",
        "X_raw = X_raw_all[ind,:]\n",
        "y_raw = y_raw_all[ind]\n",
        "n_samples, n_features = X_raw.shape\n",
        "\n",
        "print('No. samples = ', n_samples)\n",
        "print('No. features = ', n_features)"
      ]
    },
    {
      "cell_type": "markdown",
      "metadata": {
        "id": "7qqTINIM8adj"
      },
      "source": [
        "## Some Data Exploration"
      ]
    },
    {
      "cell_type": "code",
      "execution_count": null,
      "metadata": {
        "colab": {
          "base_uri": "https://localhost:8080/",
          "height": 404
        },
        "id": "JZP0E9OL8adk",
        "outputId": "891d399f-0984-497e-ae3e-db83f4c677af"
      },
      "outputs": [
        {
          "output_type": "stream",
          "name": "stdout",
          "text": [
            "[[ 0.  1. 10. 15. 11.  1.  0.  0.]\n",
            " [ 0.  3.  8.  8. 11. 12.  0.  0.]\n",
            " [ 0.  0.  0.  5. 14. 15.  1.  0.]\n",
            " [ 0.  0.  0. 11. 15.  2.  0.  0.]\n",
            " [ 0.  0.  0.  4. 15.  2.  0.  0.]\n",
            " [ 0.  0.  0.  0. 12. 10.  0.  0.]\n",
            " [ 0.  0.  3.  4. 10. 16.  1.  0.]\n",
            " [ 0.  0. 13. 16. 15. 10.  0.  0.]]\n"
          ]
        },
        {
          "output_type": "display_data",
          "data": {
            "text/plain": [
              "<Figure size 360x288 with 1 Axes>"
            ],
            "image/png": "[encoded data removed]"
          },
          "metadata": {
            "needs_background": "light"
          }
        }
      ],
      "source": [
        "# plot a single sample\n",
        "show_sample_no = 10\n",
        "plt.figure()\n",
        "plt.imshow(X_raw[show_sample_no,:].reshape((8, 8)), cmap=plt.cm.binary, interpolation='none')\n",
        "print(X_raw[show_sample_no,:].reshape((8, 8)))"
      ]
    },
    {
      "cell_type": "code",
      "execution_count": null,
      "metadata": {
        "colab": {
          "base_uri": "https://localhost:8080/",
          "height": 502
        },
        "id": "FaVBAgYy8adk",
        "outputId": "b3556015-2cef-4a78-836f-278059576eda"
      },
      "outputs": [
        {
          "output_type": "execute_result",
          "data": {
            "text/plain": [
              "Text(0.5, 1.0, 'A selection from the 64-dimensional digits dataset')"
            ]
          },
          "metadata": {},
          "execution_count": 4
        },
        {
          "output_type": "display_data",
          "data": {
            "text/plain": [
              "<Figure size 720x576 with 1 Axes>"
            ],
            "image/png": "[encoded data removed]"
          },
          "metadata": {}
        }
      ],
      "source": [
        "# Plot images of the digits\n",
        "n_img_per_row = 10\n",
        "img = np.zeros((10 * n_img_per_row, 10 * n_img_per_row))\n",
        "for i in range(n_img_per_row):\n",
        "    ix = 10 * i + 1\n",
        "    for j in range(n_img_per_row):\n",
        "        iy = 10 * j + 1\n",
        "        img[ix:ix + 8, iy:iy + 8] = X_raw[i * n_img_per_row + j].reshape((8, 8))\n",
        "\n",
        "plt.rcParams['figure.figsize'] = (10.0, 8.0)\n",
        "plt.figure()\n",
        "plt.imshow(img, cmap=plt.cm.binary)\n",
        "plt.xticks([])\n",
        "plt.yticks([])\n",
        "plt.title('A selection from the 64-dimensional digits dataset')"
      ]
    },
    {
      "cell_type": "code",
      "execution_count": null,
      "metadata": {
        "id": "K-k5oYEU8adl"
      },
      "outputs": [],
      "source": [
        "# TODO: split the data randomly in 67% training and 33% testing\n",
        "X_train, X_test, y_train, y_test = train_test_split(X_raw, y_raw, test_size=0.33, random_state=0)"
      ]
    },
    {
      "cell_type": "code",
      "execution_count": null,
      "metadata": {
        "id": "LSWhpp6n8adl"
      },
      "outputs": [],
      "source": [
        "# TODO: scale the data -> zero mean and unit variance\n",
        "\n",
        "# scale train dataset\n",
        "scaler = preprocessing.StandardScaler()\n",
        "scaler.fit(X_train)\n",
        "X_train_scaled = scaler.transform(X_train)\n",
        "\n",
        "# scale test dataset\n",
        "X_test_scaled = scaler.transform(X_test)"
      ]
    },
    {
      "cell_type": "markdown",
      "metadata": {
        "id": "Ug4C8M3M8adm"
      },
      "source": [
        "## Logistic Regression - L2 with 10-fold cross-validation"
      ]
    },
    {
      "cell_type": "code",
      "execution_count": null,
      "metadata": {
        "colab": {
          "base_uri": "https://localhost:8080/",
          "height": 726
        },
        "id": "qqPtI_Qk8adm",
        "outputId": "d8fb646d-91c4-40d6-c578-569a1fa4824f"
      },
      "outputs": [
        {
          "output_type": "stream",
          "name": "stdout",
          "text": [
            "1/alpha =  [0.00497702]\n",
            "coef =  [[ 0.         -0.03977015 -0.03925356 -0.05512758 -0.05892729 -0.02383029\n",
            "  -0.02520766 -0.01994643  0.00935319 -0.03912972  0.0063074   0.02668758\n",
            "  -0.03516287  0.00892738 -0.00330952 -0.01407337  0.00913041  0.02644348\n",
            "   0.11677199  0.0714718  -0.05283371  0.04187341  0.0300237   0.\n",
            "   0.          0.0229108   0.10523448  0.08217799 -0.0080488   0.03600598\n",
            "   0.03019328  0.          0.          0.01653235  0.0739978   0.09363673\n",
            "   0.03143373 -0.05313125 -0.05633888  0.          0.          0.02234498\n",
            "   0.11868324  0.10811335  0.03211536 -0.03139982 -0.06040786  0.\n",
            "   0.         -0.00192329  0.06487144  0.04239482 -0.02519543 -0.03714149\n",
            "  -0.04971236 -0.01843668  0.         -0.02651693 -0.05474711 -0.03984526\n",
            "  -0.00989216 -0.02143623 -0.0121979  -0.01142658]]\n",
            "accuracy =  0.9830508474576272\n"
          ]
        },
        {
          "output_type": "execute_result",
          "data": {
            "text/plain": [
              "<matplotlib.image.AxesImage at 0x7fdf06ece6d0>"
            ]
          },
          "metadata": {},
          "execution_count": 7
        },
        {
          "output_type": "display_data",
          "data": {
            "text/plain": [
              "<Figure size 720x576 with 1 Axes>"
            ],
            "image/png": "[encoded data removed]"
          },
          "metadata": {
            "needs_background": "light"
          }
        }
      ],
      "source": [
        "# train logistic regression & cross validation\n",
        "clf_L2 = LogisticRegressionCV(Cs=100, cv=10, penalty='l2', random_state=0, multi_class='multinomial', solver='lbfgs', n_jobs=-1)\n",
        "clf_L2.fit(X_train_scaled, y_train)\n",
        "print('1/alpha = ', clf_L2.C_)\n",
        "print('coef = ', clf_L2.coef_)\n",
        "print('accuracy = ', clf_L2.score(X_test_scaled,y_test))\n",
        "\n",
        "# Heatmap coefficients\n",
        "img_coef = clf_L2.coef_.reshape((8,8))\n",
        "plt.figure()\n",
        "tmp_max = np.max(np.abs([np.min(clf_L2.coef_), np.max(clf_L2.coef_)]))\n",
        "plt.imshow(img_coef, cmap=plt.cm.RdYlGn,  vmin=-tmp_max, vmax=tmp_max, interpolation='none')"
      ]
    },
    {
      "cell_type": "code",
      "execution_count": null,
      "metadata": {
        "colab": {
          "base_uri": "https://localhost:8080/"
        },
        "id": "e5XBEWct8adn",
        "outputId": "9aaef628-7766-49c9-b49a-1683acd37c0c"
      },
      "outputs": [
        {
          "output_type": "stream",
          "name": "stdout",
          "text": [
            "p(0), p(1), actual = \n",
            " [[0.14 0.86 8.  ]\n",
            " [0.95 0.05 3.  ]\n",
            " [0.87 0.13 3.  ]\n",
            " [0.31 0.69 8.  ]\n",
            " [0.65 0.35 3.  ]\n",
            " [0.35 0.65 8.  ]\n",
            " [0.82 0.18 3.  ]\n",
            " [0.87 0.13 3.  ]\n",
            " [0.94 0.06 3.  ]\n",
            " [0.94 0.06 3.  ]]\n"
          ]
        }
      ],
      "source": [
        "# TODO: predict the class probabilities for the testing dataset using L1 model\n",
        "#       and show them along the actual test classes\n",
        "\n",
        "# suppress the scientific notation for small floats and use only 2 digits of precision\n",
        "np.set_printoptions(precision=2,suppress=True)\n",
        "\n",
        "print('p(0), p(1), actual = \\n', np.hstack([clf_L2.predict_proba(X_test_scaled), y_test.reshape(-1,1)])[:10,:])"
      ]
    },
    {
      "cell_type": "markdown",
      "source": [
        "**Adding a new cell to train a Logistic Regression with L1 penalty. Use the following arguments:**\n",
        "\n",
        "**solver='saga', tol=0.001, max_iter=500**"
      ],
      "metadata": {
        "id": "GEEsl3388831"
      }
    },
    {
      "cell_type": "code",
      "execution_count": null,
      "metadata": {
        "colab": {
          "base_uri": "https://localhost:8080/",
          "height": 622
        },
        "id": "OwewKUWJ8adn",
        "outputId": "db0d804f-6d30-4535-ecae-743198cd0421"
      },
      "outputs": [
        {
          "output_type": "stream",
          "name": "stdout",
          "text": [
            "coef =  [[ 0.   -0.21  0.   -0.4  -0.58  0.   -0.16 -0.08  0.08 -0.28 -0.15 -0.1\n",
            "  -0.5   0.   -0.05  0.    0.05  0.    1.35  0.69 -0.24  0.17  0.02  0.\n",
            "   0.   -0.03  1.19  0.88  0.    0.22  0.04  0.    0.    0.06  0.26  0.37\n",
            "   0.41  0.   -0.44  0.    0.    0.05  1.8   1.32  0.   -0.03 -0.12  0.\n",
            "   0.   -0.03  0.41  0.21 -0.29 -0.4  -0.64  0.    0.   -0.11 -0.34 -0.09\n",
            "   0.   -0.01 -0.17  0.  ]]\n",
            "accuracy =  1.0\n"
          ]
        },
        {
          "output_type": "execute_result",
          "data": {
            "text/plain": [
              "<matplotlib.image.AxesImage at 0x7fdf054ac640>"
            ]
          },
          "metadata": {},
          "execution_count": 13
        },
        {
          "output_type": "display_data",
          "data": {
            "text/plain": [
              "<Figure size 720x576 with 1 Axes>"
            ],
            "image/png": "[encoded data removed]"
          },
          "metadata": {
            "needs_background": "light"
          }
        }
      ],
      "source": [
        "# train logistic regression & cross validation\n",
        "clf_L1 = LogisticRegressionCV(penalty='l1', solver='saga', tol=0.001, max_iter=500)\n",
        "clf_L1.fit(X_train_scaled, y_train)\n",
        "print('coef = ', clf_L1.coef_)\n",
        "print('accuracy = ', clf_L1.score(X_test_scaled, y_test))\n",
        "\n",
        "# Heatmap coefficients\n",
        "img_coef = clf_L1.coef_.reshape((8,8))\n",
        "plt.figure()\n",
        "tmp_max = np.max(np.abs([np.min(clf_L1.coef_), np.max(clf_L1.coef_)]))\n",
        "plt.imshow(img_coef, cmap=plt.cm.RdYlGn,  vmin=-tmp_max, vmax=tmp_max, interpolation='none')"
      ]
    },
    {
      "cell_type": "code",
      "source": [
        "# TODO: predict the class probabilities for the testing dataset using L1 model\n",
        "#       and show them along the actual test classes\n",
        "\n",
        "# suppress the scientific notation for small floats and use only 2 digits of precision\n",
        "np.set_printoptions(precision=2,suppress=True)\n",
        "\n",
        "print('p(0), p(1), actual = \\n', np.hstack([clf_L1.predict_proba(X_test_scaled), y_test.reshape(-1,1)])[:10,:])"
      ],
      "metadata": {
        "colab": {
          "base_uri": "https://localhost:8080/"
        },
        "id": "UGlSCOHCFOfJ",
        "outputId": "d2aec1c7-8dd2-41aa-e835-1ba5f76dc272"
      },
      "execution_count": null,
      "outputs": [
        {
          "output_type": "stream",
          "name": "stdout",
          "text": [
            "p(0), p(1), actual = \n",
            " [[0.   1.   8.  ]\n",
            " [1.   0.   3.  ]\n",
            " [1.   0.   3.  ]\n",
            " [0.01 0.99 8.  ]\n",
            " [0.61 0.39 3.  ]\n",
            " [0.06 0.94 8.  ]\n",
            " [1.   0.   3.  ]\n",
            " [1.   0.   3.  ]\n",
            " [1.   0.   3.  ]\n",
            " [1.   0.   3.  ]]\n"
          ]
        }
      ]
    },
    {
      "cell_type": "markdown",
      "source": [
        "### **What do you observe by comparing the two images of the coefficients of L2 and L1?**\n",
        "\n",
        "**Answer:**\n",
        "We can see that the L1 regularization produces a smaller sample size model than the L2 regularization by contrasting the two images of the coefficients of L2 and L1.\n",
        "\n",
        "This is because L1 regularization encourages the coefficients of some features to become exactly zero, and effectively performs feature selection, while L2 regularization only shrinks the coefficients towards zero without necessarily making them zero.\n",
        "\n",
        "We can observe that the L1-regularized model in the digit classification problem has just a few nonzero coefficients, whereas the L2-regularized model has coefficients with both positive and negative values spread throughout the image.\n"
      ],
      "metadata": {
        "id": "1R7WQQkQFI5z"
      }
    }
  ],
  "metadata": {
    "kernelspec": {
      "display_name": "Python 3",
      "language": "python",
      "name": "python3"
    },
    "language_info": {
      "codemirror_mode": {
        "name": "ipython",
        "version": 3
      },
      "file_extension": ".py",
      "mimetype": "text/x-python",
      "name": "python",
      "nbconvert_exporter": "python",
      "pygments_lexer": "ipython3",
      "version": "3.7.3"
    },
    "colab": {
      "provenance": []
    }
  },
  "nbformat": 4,
  "nbformat_minor": 0
}